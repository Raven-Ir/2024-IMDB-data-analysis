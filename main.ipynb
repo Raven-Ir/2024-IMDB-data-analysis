{
 "cells": [
  {
   "cell_type": "code",
   "execution_count": 2,
   "metadata": {},
   "outputs": [],
   "source": [
    "import pandas as pd\n",
    "import re \n",
    "import numpy as np"
   ]
  },
  {
   "cell_type": "code",
   "execution_count": 3,
   "metadata": {},
   "outputs": [],
   "source": [
    "data = pd.read_csv('imdb_2024.csv')\n",
    "res = data.columns"
   ]
  },
  {
   "cell_type": "markdown",
   "metadata": {},
   "source": [
    "#### Dropping columns that are not usefull for this case study."
   ]
  },
  {
   "cell_type": "code",
   "execution_count": 4,
   "metadata": {},
   "outputs": [],
   "source": [
    "data = data.drop(columns=['Home_Page', 'Overview', 'Cast', 'Storyline', 'Original_Language', 'Production_Company', 'Run_Time_Minutes', 'Release_Country', 'Tagline'], axis=1)"
   ]
  },
  {
   "cell_type": "code",
   "execution_count": 5,
   "metadata": {},
   "outputs": [],
   "source": [
    "def to_str(fstring):\n",
    "    new_string = \"\"\n",
    "    for char in fstring:\n",
    "        if char.isnumeric():\n",
    "            new_string = new_string + char\n",
    "        elif char ==\"M\":\n",
    "            return float(new_string[:-1]) * 1e6\n",
    "        elif char == \"B\":\n",
    "            return float(new_string[:-1]) * 1e9\n",
    "    return float(new_string)"
   ]
  },
  {
   "cell_type": "code",
   "execution_count": 6,
   "metadata": {},
   "outputs": [],
   "source": [
    "data[\"Budget\"] = data[\"Budget_USD\"].apply(to_str)\n",
    "data[\"Revenue\"] = data[\"Revenue_$\"].apply(to_str)\n",
    "# print(data.columns)"
   ]
  },
  {
   "cell_type": "code",
   "execution_count": 7,
   "metadata": {},
   "outputs": [],
   "source": [
    "data = data.drop(columns=['Budget_USD', 'Revenue_$'])"
   ]
  },
  {
   "cell_type": "code",
   "execution_count": 9,
   "metadata": {},
   "outputs": [],
   "source": [
    "data.loc[(data['Budget'] > 0) & (data['Revenue']>0), 'Profit'] = data['Revenue'] - data['Budget']\n",
    "# print(data)"
   ]
  },
  {
   "cell_type": "code",
   "execution_count": 10,
   "metadata": {},
   "outputs": [
    {
     "name": "stdout",
     "output_type": "stream",
     "text": [
      "            Movie_Name                                             Genres  \\\n",
      "0            Nosferatu                   ['Fantasy', 'Horror', 'Mystery']   \n",
      "1         Emilia Pérez  ['Comedy', 'Crime', 'Drama', 'Musical', 'Thril...   \n",
      "2        The Brutalist                                          ['Drama']   \n",
      "3       Saturday Night        ['Biography', 'Comedy', 'Drama', 'History']   \n",
      "4        The Substance                      ['Drama', 'Horror', 'Sci-Fi']   \n",
      "..                 ...                                                ...   \n",
      "384             Afraid        ['Horror', 'Mystery', 'Sci-Fi', 'Thriller']   \n",
      "385              Tarot                                         ['Horror']   \n",
      "403  Lisa Frankenstein                                      ['Not_Found']   \n",
      "432    Ordinary Angels                                      ['Not_Found']   \n",
      "461       The Exorcism                             ['Horror', 'Thriller']   \n",
      "\n",
      "    Release_Date  Vote_Average Vote_Count      Budget      Revenue  \\\n",
      "0     2024-12-25           7.3       151K  50000000.0  176000000.0   \n",
      "1     2024-11-13           5.5        71K  27000000.0   15000000.0   \n",
      "2     2025-01-24           7.9        28K  10000000.0   31000000.0   \n",
      "3     2024-10-11           7.0        26K  25000000.0   10000000.0   \n",
      "4     2024-09-20           7.3       249K  17000000.0   77000000.0   \n",
      "..           ...           ...        ...         ...          ...   \n",
      "384   2024-08-30           5.2        13K  12000000.0   13000000.0   \n",
      "385   2024-05-03           4.8        30K   8000000.0   49000000.0   \n",
      "403   2024-02-09           6.1        27K  13000000.0    9000000.0   \n",
      "432   2024-02-23           7.4        15K  13000000.0   20000000.0   \n",
      "461   2024-06-21           4.2        11K  22000000.0   12000000.0   \n",
      "\n",
      "          Profit  \n",
      "0    126000000.0  \n",
      "1    -12000000.0  \n",
      "2     21000000.0  \n",
      "3    -15000000.0  \n",
      "4     60000000.0  \n",
      "..           ...  \n",
      "384    1000000.0  \n",
      "385   41000000.0  \n",
      "403   -4000000.0  \n",
      "432    7000000.0  \n",
      "461  -10000000.0  \n",
      "\n",
      "[104 rows x 8 columns]\n"
     ]
    }
   ],
   "source": [
    "data = data[data['Profit'] != 0]\n",
    "data = data.dropna()\n",
    "print(data)"
   ]
  },
  {
   "cell_type": "markdown",
   "metadata": {},
   "source": [
    "## After cleaning up the we end up with a sample of 104 films released in 2024 that provide the necessary information needed for this project."
   ]
  },
  {
   "cell_type": "code",
   "execution_count": 14,
   "metadata": {},
   "outputs": [],
   "source": [
    "data = data.sort_values(by=\"Profit\", ascending=False)\n",
    "data.reset_index(drop=True, inplace=True)"
   ]
  },
  {
   "cell_type": "markdown",
   "metadata": {},
   "source": [
    "## In the following steps we will be filtering the data based to the most common genre."
   ]
  },
  {
   "cell_type": "code",
   "execution_count": 15,
   "metadata": {},
   "outputs": [],
   "source": [
    "def top_genres(column):\n",
    "    genres_dictionary = {}\n",
    "    for entry in column:\n",
    "        entry = re.sub(r\"[\\[\\]']\", \"\", entry)\n",
    "        entry = entry.split(\", \")\n",
    "        for genre in entry:\n",
    "            if genre in  genres_dictionary.keys():\n",
    "                genres_dictionary[genre] += 1\n",
    "            else:\n",
    "                genres_dictionary[genre] = 1\n",
    "    return genres_dictionary"
   ]
  },
  {
   "cell_type": "code",
   "execution_count": 16,
   "metadata": {},
   "outputs": [],
   "source": [
    "successfull = data.head(20)\n",
    "not_successfull = data.tail(20)\n",
    "moderate_success = data.iloc[55:75]"
   ]
  },
  {
   "cell_type": "code",
   "execution_count": 17,
   "metadata": {},
   "outputs": [
    {
     "name": "stdout",
     "output_type": "stream",
     "text": [
      "           Appearances\n",
      "Action              12\n",
      "Thriller            10\n",
      "Drama                7\n",
      "Comedy               7\n",
      "Fantasy              5\n",
      "Crime                3\n",
      "Mystery              3\n",
      "Biography            2\n",
      "Horror               2\n",
      "Sci-Fi               2\n",
      "Romance              2\n",
      "Adventure            2\n",
      "History              1\n",
      "Western              1\n",
      "War                  1\n",
      "Music                1\n",
      "Musical              1\n"
     ]
    }
   ],
   "source": [
    "genres = top_genres(not_successfull[\"Genres\"])\n",
    "\n",
    "popular_genres = pd.DataFrame.from_dict(genres, orient='index', columns=['Appearances'])\n",
    "popular_genres = popular_genres.rename(columns={0: 'Genre'})\n",
    "print(popular_genres.sort_values(by='Appearances', ascending=False))"
   ]
  },
  {
   "cell_type": "code",
   "execution_count": 18,
   "metadata": {},
   "outputs": [
    {
     "name": "stdout",
     "output_type": "stream",
     "text": [
      "           Appearances  Frequency%\n",
      "Action              12   19.354839\n",
      "Thriller            10   16.129032\n",
      "Drama                7   11.290323\n",
      "Comedy               7   11.290323\n",
      "Fantasy              5    8.064516\n",
      "Crime                3    4.838710\n",
      "Mystery              3    4.838710\n",
      "Biography            2    3.225806\n",
      "Horror               2    3.225806\n",
      "Sci-Fi               2    3.225806\n",
      "Romance              2    3.225806\n",
      "Adventure            2    3.225806\n",
      "History              1    1.612903\n",
      "Western              1    1.612903\n",
      "War                  1    1.612903\n",
      "Music                1    1.612903\n",
      "Musical              1    1.612903\n"
     ]
    }
   ],
   "source": [
    "total_genres_app = popular_genres['Appearances'].sum()\n",
    "popular_genres['Frequency%'] = (popular_genres['Appearances'] / total_genres_app) * 100\n",
    "print(popular_genres.sort_values(by='Frequency%', ascending=False))"
   ]
  },
  {
   "cell_type": "code",
   "execution_count": null,
   "metadata": {},
   "outputs": [],
   "source": [
    "# successfull.to_excel('successful_genres.xlsx', index=False)\n",
    "# moderate_success.to_excel('mod_s.xlsx', index=False)\n",
    "# not_successfull.to_excel('not_s.xlsx', index=False)"
   ]
  },
  {
   "cell_type": "code",
   "execution_count": 23,
   "metadata": {},
   "outputs": [
    {
     "name": "stdout",
     "output_type": "stream",
     "text": [
      "count    1.100000e+01\n",
      "mean    -1.445448e+07\n",
      "std      4.557272e+07\n",
      "min     -1.060000e+08\n",
      "25%     -2.200000e+07\n",
      "50%     -1.099930e+07\n",
      "75%      1.300000e+07\n",
      "max      4.100000e+07\n",
      "Name: Profit, dtype: float64\n"
     ]
    }
   ],
   "source": [
    "high_rated = data.loc[data['Vote_Average'] >= 7.5]\n",
    "mid_rated = data.loc[(data['Vote_Average'] >= 5.0) & (data['Vote_Average'] <= 7.4)]\n",
    "low_rated = data.loc[data['Vote_Average'] <= 4.9]\n",
    "\n",
    "high_rated.to_excel('high_rated.xlsx', index= False)\n",
    "mid_rated.to_excel('mid_rated.xlsx', index=False)\n",
    "low_rated.to_excel('low_rated.xlsx', index=False)\n",
    "\n",
    "print(low_rated['Profit'].describe())"
   ]
  }
 ],
 "metadata": {
  "kernelspec": {
   "display_name": "Python 3",
   "language": "python",
   "name": "python3"
  },
  "language_info": {
   "codemirror_mode": {
    "name": "ipython",
    "version": 3
   },
   "file_extension": ".py",
   "mimetype": "text/x-python",
   "name": "python",
   "nbconvert_exporter": "python",
   "pygments_lexer": "ipython3",
   "version": "3.10.7"
  }
 },
 "nbformat": 4,
 "nbformat_minor": 2
}
